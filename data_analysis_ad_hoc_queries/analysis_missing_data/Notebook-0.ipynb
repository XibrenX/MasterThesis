{
    "metadata": {
        "kernelspec": {
            "name": "SQL",
            "display_name": "SQL",
            "language": "sql"
        },
        "language_info": {
            "name": "sql",
            "version": ""
        }
    },
    "nbformat_minor": 2,
    "nbformat": 4,
    "cells": [
        {
            "cell_type": "code",
            "source": [
                "SELECT *\n",
                "FROM dblp_dump.lan_title\n",
                "WHERE title = 'Adaptive Regularization in Neural Network Modeling.'\n",
                ""
            ],
            "metadata": {
                "azdata_cell_guid": "6f7b9d74-88ed-4847-bf2c-766e8b842ab1"
            },
            "outputs": [],
            "execution_count": null
        },
        {
            "cell_type": "code",
            "source": [
                "SELECT *\n",
                "FROM dblp_dump.lan_ee\n",
                "WHERE parent_id IN (3665863, 8720067)"
            ],
            "metadata": {
                "azdata_cell_guid": "5a1e5f9a-3078-4ef7-991a-70051be7dde9"
            },
            "outputs": [],
            "execution_count": null
        }
    ]
}